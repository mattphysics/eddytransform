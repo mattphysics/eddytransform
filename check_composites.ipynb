{
 "cells": [
  {
   "cell_type": "markdown",
   "id": "bb3bbd7f-dfda-4fc0-a7ba-8ffbf596f369",
   "metadata": {},
   "source": [
    "# Check Jasmin composites"
   ]
  },
  {
   "cell_type": "code",
   "execution_count": 1,
   "id": "59c6e1a5-1e57-45c7-a5f6-2b5ea926a1d2",
   "metadata": {},
   "outputs": [],
   "source": [
    "import os\n",
    "from glob import glob\n",
    "import xarray as xr"
   ]
  },
  {
   "cell_type": "code",
   "execution_count": 2,
   "id": "1e80b721-a6e3-4986-832a-880dc30a7964",
   "metadata": {},
   "outputs": [],
   "source": [
    "path_acyc = '/gws/nopw/j04/eerie/aengenh/output/HadGEM3-GC5-EERIE-N640/highresSST-present/processed/composites_rot_acyc/'\n",
    "path_acyc_a = '/gws/nopw/j04/eerie/aengenh/output/HadGEM3-GC5-EERIE-N640/highresSST-SmoothAnom/processed/composites_rot_acyc/'\n",
    "\n",
    "fnames_acyc = glob('%s*.nc' % path_acyc)\n",
    "fnames_acyc_a = glob('%s*.nc' % path_acyc_a)"
   ]
  },
  {
   "cell_type": "code",
   "execution_count": 5,
   "id": "bd7a15f4-2022-40d0-97a7-6842351cca31",
   "metadata": {},
   "outputs": [],
   "source": [
    "fnames_acyc.sort()\n",
    "fnames_acyc_a.sort()"
   ]
  },
  {
   "cell_type": "code",
   "execution_count": 6,
   "id": "0ff60e9c-6f42-4dfb-a64d-6e01220353fc",
   "metadata": {},
   "outputs": [
    {
     "data": {
      "text/plain": [
       "['/gws/nopw/j04/eerie/aengenh/output/HadGEM3-GC5-EERIE-N640/highresSST-present/processed/composites_rot_acyc/eddy_r_1_10000006_hfls.nc',\n",
       " '/gws/nopw/j04/eerie/aengenh/output/HadGEM3-GC5-EERIE-N640/highresSST-present/processed/composites_rot_acyc/eddy_r_1_10000006_pr.nc',\n",
       " '/gws/nopw/j04/eerie/aengenh/output/HadGEM3-GC5-EERIE-N640/highresSST-present/processed/composites_rot_acyc/eddy_r_1_10000006_ts.nc',\n",
       " '/gws/nopw/j04/eerie/aengenh/output/HadGEM3-GC5-EERIE-N640/highresSST-present/processed/composites_rot_acyc/eddy_r_1_10000006_uv.nc',\n",
       " '/gws/nopw/j04/eerie/aengenh/output/HadGEM3-GC5-EERIE-N640/highresSST-present/processed/composites_rot_acyc/eddy_r_1_10000016_hfls.nc',\n",
       " '/gws/nopw/j04/eerie/aengenh/output/HadGEM3-GC5-EERIE-N640/highresSST-present/processed/composites_rot_acyc/eddy_r_1_10000016_pr.nc',\n",
       " '/gws/nopw/j04/eerie/aengenh/output/HadGEM3-GC5-EERIE-N640/highresSST-present/processed/composites_rot_acyc/eddy_r_1_10000016_ts.nc',\n",
       " '/gws/nopw/j04/eerie/aengenh/output/HadGEM3-GC5-EERIE-N640/highresSST-present/processed/composites_rot_acyc/eddy_r_1_10000016_uv.nc',\n",
       " '/gws/nopw/j04/eerie/aengenh/output/HadGEM3-GC5-EERIE-N640/highresSST-present/processed/composites_rot_acyc/eddy_r_1_10000026_hfls.nc',\n",
       " '/gws/nopw/j04/eerie/aengenh/output/HadGEM3-GC5-EERIE-N640/highresSST-present/processed/composites_rot_acyc/eddy_r_1_10000026_pr.nc']"
      ]
     },
     "execution_count": 6,
     "metadata": {},
     "output_type": "execute_result"
    }
   ],
   "source": [
    "fnames_acyc[:10]"
   ]
  },
  {
   "cell_type": "code",
   "execution_count": 10,
   "id": "a6062ba1-dcaf-4a96-9ddf-6597247eaffb",
   "metadata": {},
   "outputs": [
    {
     "name": "stdout",
     "output_type": "stream",
     "text": [
      "present\n"
     ]
    },
    {
     "name": "stderr",
     "output_type": "stream",
     "text": [
      "\n",
      "KeyboardInterrupt\n",
      "\n"
     ]
    }
   ],
   "source": [
    "print('present')\n",
    "obs_acyc = []\n",
    "for f in fnames_acyc:\n",
    "    obsi = f.split('_')[-2]\n",
    "    if not obsi in obs_acyc:\n",
    "        obs_acyc.append(obsi)\n",
    "print(len(fnames_acyc), len(obs_acyc))\n",
    "\n",
    "print('SmoothAnom')\n",
    "obs_acyc_a = []\n",
    "for f in fnames_acyc_a:\n",
    "    obsi = f.split('_')[-2]\n",
    "    if not obsi in obs_acyc_a:\n",
    "        obs_acyc_a.append(obsi)\n",
    "print(len(fnames_acyc_a), len(obs_acyc_a))"
   ]
  },
  {
   "cell_type": "code",
   "execution_count": 13,
   "id": "430e7bdb-7803-46dc-8475-a0d1586dba87",
   "metadata": {},
   "outputs": [
    {
     "name": "stdout",
     "output_type": "stream",
     "text": [
      "1119746 241545\n"
     ]
    }
   ],
   "source": [
    "print(len(fnames_acyc), len(obs_acyc))"
   ]
  },
  {
   "cell_type": "code",
   "execution_count": 14,
   "id": "cfe2de86-f13b-4eaf-834b-99f8eb9bd1fb",
   "metadata": {},
   "outputs": [],
   "source": [
    "path_acyc = '/gws/nopw/j04/eerie/aengenh/output/HadGEM3-GC5-EERIE-N640/highresSST-present/processed/composites_rot_acyc/'\n",
    "path_acyc_a = '/gws/nopw/j04/eerie/aengenh/output/HadGEM3-GC5-EERIE-N640/highresSST-SmoothAnom/processed/composites_rot_acyc/'"
   ]
  },
  {
   "cell_type": "code",
   "execution_count": null,
   "id": "724de3ac-dc9b-4a93-ab91-84a1f0c62890",
   "metadata": {},
   "outputs": [],
   "source": [
    "print('present')\n",
    "varnames = ['ts','pr','hfls','uv']\n",
    "Nvar = len(varnames)\n",
    "obs_acyc_pruned = []\n",
    "for obsi in obs_acyc:\n",
    "    nvars_obsi = len(glob('%s*_%i_*.nc' % (path_acyc,obsi)))\n",
    "    if nvars_obsi == Nvar:\n",
    "        if not obsi in obs_acyc_pruned:\n",
    "            obs_acyc_pruned.append(obsi)\n",
    "    else:\n",
    "        print('obs = %i - only %i variables available' % (obsi,nvars_obsi))\n",
    "\n",
    "print('SmoothAnom')\n",
    "varnames = ['ts','pr','hfls','uv']\n",
    "Nvar = len(varnames)\n",
    "obs_acyc_a_pruned = []\n",
    "for obsi in obs_acyc_a:\n",
    "    nvars_obsi = len(glob('%s*_%i_*.nc' % (path_acyc_a,obsi)))\n",
    "    if nvars_obsi == Nvar:\n",
    "        if not obsi in obs_acyc_a_pruned:\n",
    "            obs_acyc_a_pruned.append(obsi)\n",
    "    else:\n",
    "        print('obs = %i - only %i variables available' % (obsi,nvars_obsi))\n",
    "\n",
    "print('Done')"
   ]
  },
  {
   "cell_type": "code",
   "execution_count": null,
   "id": "012c728d-cf79-4165-8a29-3d9009b26429",
   "metadata": {},
   "outputs": [],
   "source": [
    "print(len(obs_acyc_pruned))\n",
    "print(len(obs_acyc_a_pruned))"
   ]
  },
  {
   "cell_type": "code",
   "execution_count": 19,
   "id": "b3c470c4-e960-4f25-aa1c-0b176da4efa7",
   "metadata": {},
   "outputs": [
    {
     "name": "stdout",
     "output_type": "stream",
     "text": [
      "present\n"
     ]
    },
    {
     "ename": "KeyboardInterrupt",
     "evalue": "",
     "output_type": "error",
     "traceback": [
      "\u001b[31m---------------------------------------------------------------------------\u001b[39m",
      "\u001b[31mKeyboardInterrupt\u001b[39m                         Traceback (most recent call last)",
      "\u001b[36mCell\u001b[39m\u001b[36m \u001b[39m\u001b[32mIn[19]\u001b[39m\u001b[32m, line 6\u001b[39m\n\u001b[32m      4\u001b[39m obs_acyc_pruned = []\n\u001b[32m      5\u001b[39m \u001b[38;5;28;01mfor\u001b[39;00m obsi \u001b[38;5;129;01min\u001b[39;00m obs_acyc[:\u001b[32m200\u001b[39m]:\n\u001b[32m----> \u001b[39m\u001b[32m6\u001b[39m     nvars_obsi = \u001b[38;5;28mlen\u001b[39m(\u001b[43mglob\u001b[49m\u001b[43m(\u001b[49m\u001b[33;43m'\u001b[39;49m\u001b[38;5;132;43;01m%s\u001b[39;49;00m\u001b[33;43m*_\u001b[39;49m\u001b[38;5;132;43;01m%s\u001b[39;49;00m\u001b[33;43m_*.nc\u001b[39;49m\u001b[33;43m'\u001b[39;49m\u001b[43m \u001b[49m\u001b[43m%\u001b[49m\u001b[43m \u001b[49m\u001b[43m(\u001b[49m\u001b[43mpath_acyc\u001b[49m\u001b[43m,\u001b[49m\u001b[43mobsi\u001b[49m\u001b[43m)\u001b[49m\u001b[43m)\u001b[49m)\n\u001b[32m      7\u001b[39m     \u001b[38;5;28;01mif\u001b[39;00m nvars_obsi == Nvar:\n\u001b[32m      8\u001b[39m         \u001b[38;5;28;01mif\u001b[39;00m \u001b[38;5;129;01mnot\u001b[39;00m obsi \u001b[38;5;129;01min\u001b[39;00m obs_acyc_pruned:\n",
      "\u001b[36mFile \u001b[39m\u001b[32m~/.conda/envs/science312/lib/python3.12/glob.py:28\u001b[39m, in \u001b[36mglob\u001b[39m\u001b[34m(pathname, root_dir, dir_fd, recursive, include_hidden)\u001b[39m\n\u001b[32m     13\u001b[39m \u001b[38;5;28;01mdef\u001b[39;00m\u001b[38;5;250m \u001b[39m\u001b[34mglob\u001b[39m(pathname, *, root_dir=\u001b[38;5;28;01mNone\u001b[39;00m, dir_fd=\u001b[38;5;28;01mNone\u001b[39;00m, recursive=\u001b[38;5;28;01mFalse\u001b[39;00m,\n\u001b[32m     14\u001b[39m         include_hidden=\u001b[38;5;28;01mFalse\u001b[39;00m):\n\u001b[32m     15\u001b[39m \u001b[38;5;250m    \u001b[39m\u001b[33;03m\"\"\"Return a list of paths matching a pathname pattern.\u001b[39;00m\n\u001b[32m     16\u001b[39m \n\u001b[32m     17\u001b[39m \u001b[33;03m    The pattern may contain simple shell-style wildcards a la\u001b[39;00m\n\u001b[32m   (...)\u001b[39m\u001b[32m     26\u001b[39m \u001b[33;03m    zero or more directories and subdirectories.\u001b[39;00m\n\u001b[32m     27\u001b[39m \u001b[33;03m    \"\"\"\u001b[39;00m\n\u001b[32m---> \u001b[39m\u001b[32m28\u001b[39m     \u001b[38;5;28;01mreturn\u001b[39;00m \u001b[38;5;28;43mlist\u001b[39;49m\u001b[43m(\u001b[49m\u001b[43miglob\u001b[49m\u001b[43m(\u001b[49m\u001b[43mpathname\u001b[49m\u001b[43m,\u001b[49m\u001b[43m \u001b[49m\u001b[43mroot_dir\u001b[49m\u001b[43m=\u001b[49m\u001b[43mroot_dir\u001b[49m\u001b[43m,\u001b[49m\u001b[43m \u001b[49m\u001b[43mdir_fd\u001b[49m\u001b[43m=\u001b[49m\u001b[43mdir_fd\u001b[49m\u001b[43m,\u001b[49m\u001b[43m \u001b[49m\u001b[43mrecursive\u001b[49m\u001b[43m=\u001b[49m\u001b[43mrecursive\u001b[49m\u001b[43m,\u001b[49m\n\u001b[32m     29\u001b[39m \u001b[43m                      \u001b[49m\u001b[43minclude_hidden\u001b[49m\u001b[43m=\u001b[49m\u001b[43minclude_hidden\u001b[49m\u001b[43m)\u001b[49m\u001b[43m)\u001b[49m\n",
      "\u001b[36mFile \u001b[39m\u001b[32m~/.conda/envs/science312/lib/python3.12/glob.py:97\u001b[39m, in \u001b[36m_iglob\u001b[39m\u001b[34m(pathname, root_dir, dir_fd, recursive, dironly, include_hidden)\u001b[39m\n\u001b[32m     95\u001b[39m     glob_in_dir = _glob0\n\u001b[32m     96\u001b[39m \u001b[38;5;28;01mfor\u001b[39;00m dirname \u001b[38;5;129;01min\u001b[39;00m dirs:\n\u001b[32m---> \u001b[39m\u001b[32m97\u001b[39m     \u001b[38;5;28;01mfor\u001b[39;00m name \u001b[38;5;129;01min\u001b[39;00m \u001b[43mglob_in_dir\u001b[49m\u001b[43m(\u001b[49m\u001b[43m_join\u001b[49m\u001b[43m(\u001b[49m\u001b[43mroot_dir\u001b[49m\u001b[43m,\u001b[49m\u001b[43m \u001b[49m\u001b[43mdirname\u001b[49m\u001b[43m)\u001b[49m\u001b[43m,\u001b[49m\u001b[43m \u001b[49m\u001b[43mbasename\u001b[49m\u001b[43m,\u001b[49m\u001b[43m \u001b[49m\u001b[43mdir_fd\u001b[49m\u001b[43m,\u001b[49m\u001b[43m \u001b[49m\u001b[43mdironly\u001b[49m\u001b[43m,\u001b[49m\n\u001b[32m     98\u001b[39m \u001b[43m                           \u001b[49m\u001b[43minclude_hidden\u001b[49m\u001b[43m=\u001b[49m\u001b[43minclude_hidden\u001b[49m\u001b[43m)\u001b[49m:\n\u001b[32m     99\u001b[39m         \u001b[38;5;28;01myield\u001b[39;00m os.path.join(dirname, name)\n",
      "\u001b[36mFile \u001b[39m\u001b[32m~/.conda/envs/science312/lib/python3.12/glob.py:106\u001b[39m, in \u001b[36m_glob1\u001b[39m\u001b[34m(dirname, pattern, dir_fd, dironly, include_hidden)\u001b[39m\n\u001b[32m    105\u001b[39m \u001b[38;5;28;01mdef\u001b[39;00m\u001b[38;5;250m \u001b[39m\u001b[34m_glob1\u001b[39m(dirname, pattern, dir_fd, dironly, include_hidden=\u001b[38;5;28;01mFalse\u001b[39;00m):\n\u001b[32m--> \u001b[39m\u001b[32m106\u001b[39m     names = \u001b[43m_listdir\u001b[49m\u001b[43m(\u001b[49m\u001b[43mdirname\u001b[49m\u001b[43m,\u001b[49m\u001b[43m \u001b[49m\u001b[43mdir_fd\u001b[49m\u001b[43m,\u001b[49m\u001b[43m \u001b[49m\u001b[43mdironly\u001b[49m\u001b[43m)\u001b[49m\n\u001b[32m    107\u001b[39m     \u001b[38;5;28;01mif\u001b[39;00m include_hidden \u001b[38;5;129;01mor\u001b[39;00m \u001b[38;5;129;01mnot\u001b[39;00m _ishidden(pattern):\n\u001b[32m    108\u001b[39m         names = (x \u001b[38;5;28;01mfor\u001b[39;00m x \u001b[38;5;129;01min\u001b[39;00m names \u001b[38;5;28;01mif\u001b[39;00m include_hidden \u001b[38;5;129;01mor\u001b[39;00m \u001b[38;5;129;01mnot\u001b[39;00m _ishidden(x))\n",
      "\u001b[36mFile \u001b[39m\u001b[32m~/.conda/envs/science312/lib/python3.12/glob.py:178\u001b[39m, in \u001b[36m_listdir\u001b[39m\u001b[34m(dirname, dir_fd, dironly)\u001b[39m\n\u001b[32m    176\u001b[39m \u001b[38;5;28;01mdef\u001b[39;00m\u001b[38;5;250m \u001b[39m\u001b[34m_listdir\u001b[39m(dirname, dir_fd, dironly):\n\u001b[32m    177\u001b[39m     \u001b[38;5;28;01mwith\u001b[39;00m contextlib.closing(_iterdir(dirname, dir_fd, dironly)) \u001b[38;5;28;01mas\u001b[39;00m it:\n\u001b[32m--> \u001b[39m\u001b[32m178\u001b[39m         \u001b[38;5;28;01mreturn\u001b[39;00m \u001b[38;5;28;43mlist\u001b[39;49m\u001b[43m(\u001b[49m\u001b[43mit\u001b[49m\u001b[43m)\u001b[49m\n",
      "\u001b[36mFile \u001b[39m\u001b[32m~/.conda/envs/science312/lib/python3.12/glob.py:167\u001b[39m, in \u001b[36m_iterdir\u001b[39m\u001b[34m(dirname, dir_fd, dironly)\u001b[39m\n\u001b[32m    165\u001b[39m             \u001b[38;5;28;01myield\u001b[39;00m fsencode(entry.name)\n\u001b[32m    166\u001b[39m         \u001b[38;5;28;01melse\u001b[39;00m:\n\u001b[32m--> \u001b[39m\u001b[32m167\u001b[39m             \u001b[38;5;28;01myield\u001b[39;00m entry.name\n\u001b[32m    168\u001b[39m \u001b[38;5;28;01mexcept\u001b[39;00m \u001b[38;5;167;01mOSError\u001b[39;00m:\n\u001b[32m    169\u001b[39m     \u001b[38;5;28;01mpass\u001b[39;00m\n",
      "\u001b[31mKeyboardInterrupt\u001b[39m: "
     ]
    }
   ],
   "source": [
    "print('present')\n",
    "varnames = ['ts','pr','hfls','uv']\n",
    "Nvar = len(varnames)\n",
    "obs_acyc_pruned = []\n",
    "for obsi in obs_acyc[:200]:\n",
    "    nvars_obsi = len(glob('%s*_%s_*.nc' % (path_acyc,obsi)))\n",
    "    if nvars_obsi == Nvar:\n",
    "        if not obsi in obs_acyc_pruned:\n",
    "            obs_acyc_pruned.append(obsi)\n",
    "    else:\n",
    "        print('obs = %i - only %s variables available' % (obsi,nvars_obsi))\n"
   ]
  },
  {
   "cell_type": "code",
   "execution_count": 21,
   "id": "204de210-ca6d-4cb2-8781-7939d2a6638d",
   "metadata": {},
   "outputs": [
    {
     "data": {
      "text/plain": [
       "4"
      ]
     },
     "execution_count": 21,
     "metadata": {},
     "output_type": "execute_result"
    }
   ],
   "source": [
    "len(glob('%s*_%s_*.nc' % (path_acyc,obsi)))"
   ]
  },
  {
   "cell_type": "code",
   "execution_count": 25,
   "id": "b3685ff7-00ea-4141-9d31-dcef5ec97f06",
   "metadata": {},
   "outputs": [],
   "source": [
    "import pandas as pd"
   ]
  },
  {
   "cell_type": "code",
   "execution_count": null,
   "id": "054850e7-70fa-45e5-a70f-5cf9a6b89107",
   "metadata": {},
   "outputs": [],
   "source": [
    "df = pd.DataFrame()"
   ]
  },
  {
   "cell_type": "code",
   "execution_count": 26,
   "id": "83e8ee6d-68a5-4f9a-beb4-efab9220d63f",
   "metadata": {},
   "outputs": [
    {
     "data": {
      "text/plain": [
       "['/gws/nopw/j04/eerie/aengenh/output/HadGEM3-GC5-EERIE-N640/highresSST-present/processed/composites_rot_acyc/eddy_r_1_10000006_hfls.nc',\n",
       " '/gws/nopw/j04/eerie/aengenh/output/HadGEM3-GC5-EERIE-N640/highresSST-present/processed/composites_rot_acyc/eddy_r_1_10000006_pr.nc',\n",
       " '/gws/nopw/j04/eerie/aengenh/output/HadGEM3-GC5-EERIE-N640/highresSST-present/processed/composites_rot_acyc/eddy_r_1_10000006_ts.nc',\n",
       " '/gws/nopw/j04/eerie/aengenh/output/HadGEM3-GC5-EERIE-N640/highresSST-present/processed/composites_rot_acyc/eddy_r_1_10000006_uv.nc',\n",
       " '/gws/nopw/j04/eerie/aengenh/output/HadGEM3-GC5-EERIE-N640/highresSST-present/processed/composites_rot_acyc/eddy_r_1_10000016_hfls.nc',\n",
       " '/gws/nopw/j04/eerie/aengenh/output/HadGEM3-GC5-EERIE-N640/highresSST-present/processed/composites_rot_acyc/eddy_r_1_10000016_pr.nc',\n",
       " '/gws/nopw/j04/eerie/aengenh/output/HadGEM3-GC5-EERIE-N640/highresSST-present/processed/composites_rot_acyc/eddy_r_1_10000016_ts.nc',\n",
       " '/gws/nopw/j04/eerie/aengenh/output/HadGEM3-GC5-EERIE-N640/highresSST-present/processed/composites_rot_acyc/eddy_r_1_10000016_uv.nc',\n",
       " '/gws/nopw/j04/eerie/aengenh/output/HadGEM3-GC5-EERIE-N640/highresSST-present/processed/composites_rot_acyc/eddy_r_1_10000026_hfls.nc',\n",
       " '/gws/nopw/j04/eerie/aengenh/output/HadGEM3-GC5-EERIE-N640/highresSST-present/processed/composites_rot_acyc/eddy_r_1_10000026_pr.nc']"
      ]
     },
     "execution_count": 26,
     "metadata": {},
     "output_type": "execute_result"
    }
   ],
   "source": [
    "fnames_acyc[:10]"
   ]
  },
  {
   "cell_type": "code",
   "execution_count": null,
   "id": "cf0edf36-3e5e-4eb3-b8e1-360e80fa76a5",
   "metadata": {},
   "outputs": [],
   "source": []
  },
  {
   "cell_type": "code",
   "execution_count": 86,
   "id": "1d63ff94-8f47-4e26-ab56-e660d1fa42cf",
   "metadata": {},
   "outputs": [],
   "source": [
    "df = pd.DataFrame(fnames_acyc,columns=['fname'])\n",
    "df['obs'] = df['fname'].str.split('_').str[-2]\n",
    "df['varname'] = df['fname'].str.split('_').str[-1].str.split('.').str[0]\n",
    "varnames = df['varname'].unique().tolist()\n",
    "Nvar = len(varnames)\n",
    "df_filtered = df.groupby('obs').filter(lambda x: len(x) == Nvar)"
   ]
  },
  {
   "cell_type": "code",
   "execution_count": 116,
   "id": "f1729312-77f6-4187-9f87-7abd49508874",
   "metadata": {},
   "outputs": [
    {
     "data": {
      "text/plain": [
       "1"
      ]
     },
     "execution_count": 116,
     "metadata": {},
     "output_type": "execute_result"
    }
   ],
   "source": [
    "1"
   ]
  },
  {
   "cell_type": "code",
   "execution_count": 73,
   "id": "9690ef3e-31af-4613-aba8-7b5abe26de1a",
   "metadata": {},
   "outputs": [],
   "source": [
    "# df = df.set_index('obs')\n",
    "# df[df['obs']=='10000016']"
   ]
  },
  {
   "cell_type": "code",
   "execution_count": null,
   "id": "304465ad-e5e3-4da1-8667-c8f0a2a37eff",
   "metadata": {},
   "outputs": [],
   "source": []
  },
  {
   "cell_type": "code",
   "execution_count": 102,
   "id": "aeb35834-4644-4e1f-a9cf-8d742200d8e9",
   "metadata": {},
   "outputs": [
    {
     "data": {
      "text/plain": [
       "obs\n",
       "10000006    4\n",
       "10000016    4\n",
       "10000026    4\n",
       "10000036    4\n",
       "10000046    4\n",
       "           ..\n",
       "9999958     4\n",
       "9999968     4\n",
       "9999978     4\n",
       "9999988     4\n",
       "9999998     4\n",
       "Name: obs, Length: 279941, dtype: int64"
      ]
     },
     "execution_count": 102,
     "metadata": {},
     "output_type": "execute_result"
    }
   ],
   "source": [
    "# df['obs'].unique()\n",
    "# df['varname']#.groupby('obs').count()# == 4#.sort('varname')#.unique()\n",
    "df['obs'].groupby(df['obs']).count()#('obs')#.count()# == 4#.sort('varname')#.unique()"
   ]
  },
  {
   "cell_type": "code",
   "execution_count": 103,
   "id": "5f9890fa-46c6-4b1d-bea3-53974ae27deb",
   "metadata": {},
   "outputs": [
    {
     "name": "stdout",
     "output_type": "stream",
     "text": [
      "obs\n",
      "9999998     4\n",
      "10000006    4\n",
      "10000016    4\n",
      "10000026    4\n",
      "10000036    4\n",
      "           ..\n",
      "14962142    2\n",
      "13613361    2\n",
      "9012941     1\n",
      "11262557    1\n",
      "10200053    1\n",
      "Name: count, Length: 279941, dtype: int64\n"
     ]
    }
   ],
   "source": [
    "print(df['obs'].value_counts())"
   ]
  },
  {
   "cell_type": "code",
   "execution_count": 104,
   "id": "bf11d168-7281-4d11-9547-a4da7fb2bb0b",
   "metadata": {},
   "outputs": [],
   "source": [
    "# Count how many times each 'obs' occurs and keep only those with exactly 4\n",
    "df_filtered = df.groupby('obs').filter(lambda x: len(x) == 4)"
   ]
  },
  {
   "cell_type": "code",
   "execution_count": 115,
   "id": "ac97060e-5306-466f-a4f1-6def478e0fd8",
   "metadata": {},
   "outputs": [
    {
     "data": {
      "text/plain": [
       "['hfls', 'pr', 'ts', 'uv']"
      ]
     },
     "execution_count": 115,
     "metadata": {},
     "output_type": "execute_result"
    }
   ],
   "source": [
    "df_filtered['varname'].unique().tolist()#.value_counts()"
   ]
  },
  {
   "cell_type": "code",
   "execution_count": 123,
   "id": "f6431ad4-787e-4fff-9697-dc3c0b9db16c",
   "metadata": {},
   "outputs": [
    {
     "data": {
      "text/plain": [
       "['/gws/nopw/j04/eerie/aengenh/output/HadGEM3-GC5-EERIE-N640/highresSST-present/processed/composites_rot_acyc/eddy_r_1_9999988_hfls.nc',\n",
       " '/gws/nopw/j04/eerie/aengenh/output/HadGEM3-GC5-EERIE-N640/highresSST-present/processed/composites_rot_acyc/eddy_r_1_9999988_pr.nc',\n",
       " '/gws/nopw/j04/eerie/aengenh/output/HadGEM3-GC5-EERIE-N640/highresSST-present/processed/composites_rot_acyc/eddy_r_1_9999988_ts.nc',\n",
       " '/gws/nopw/j04/eerie/aengenh/output/HadGEM3-GC5-EERIE-N640/highresSST-present/processed/composites_rot_acyc/eddy_r_1_9999988_uv.nc']"
      ]
     },
     "execution_count": 123,
     "metadata": {},
     "output_type": "execute_result"
    }
   ],
   "source": [
    "df_filtered[df_filtered['obs']=='9999988']['fname'].values.tolist()"
   ]
  },
  {
   "cell_type": "code",
   "execution_count": 132,
   "id": "2f056e7b-ca46-401b-bc0f-abce477d0232",
   "metadata": {},
   "outputs": [],
   "source": [
    "df['realization'] = df['fname'].str.split('/').str[-1].str.split('_').str[2]"
   ]
  },
  {
   "cell_type": "code",
   "execution_count": 140,
   "id": "ed8fb709-ed99-4282-a0b4-be100a37b369",
   "metadata": {},
   "outputs": [
    {
     "data": {
      "text/plain": [
       "'/gws/nopw/j04/eerie/aengenh/output/HadGEM3-GC5-EERIE-N640/highresSST-present/processed/composites_rot_acyc_r_2.zarr'"
      ]
     },
     "execution_count": 140,
     "metadata": {},
     "output_type": "execute_result"
    }
   ],
   "source": [
    "path_acyc\n",
    "\n",
    "path_acyc[:-1] + '_r_%i' % 2 + '.zarr'"
   ]
  }
 ],
 "metadata": {
  "kernelspec": {
   "display_name": "science312",
   "language": "python",
   "name": "science312"
  },
  "language_info": {
   "codemirror_mode": {
    "name": "ipython",
    "version": 3
   },
   "file_extension": ".py",
   "mimetype": "text/x-python",
   "name": "python",
   "nbconvert_exporter": "python",
   "pygments_lexer": "ipython3",
   "version": "3.12.10"
  },
  "widgets": {
   "application/vnd.jupyter.widget-state+json": {
    "state": {},
    "version_major": 2,
    "version_minor": 0
   }
  }
 },
 "nbformat": 4,
 "nbformat_minor": 5
}
